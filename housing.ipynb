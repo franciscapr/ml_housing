{
 "cells": [
  {
   "cell_type": "markdown",
   "id": "23f0ce0e",
   "metadata": {},
   "source": [
    "# Corporación de Machine Learning Housing"
   ]
  },
  {
   "cell_type": "markdown",
   "id": "db43dd63",
   "metadata": {},
   "source": [
    "Utilizaremos datos del censo de California para construir un modelo de los precios de viviendas en el estado. Metricas como la población, el ingreso promedio de la vivienda para cada grupo de bloques en California.\n",
    "* Nuestro modelo debe aprender de estos datos y ser capaz de predecir el precio promedio de la viviendo en cualquier distrito.\n",
    "* Un distrito esta compuesto por 600 - 3.000 habitantes.\n",
    "\n",
    "1. Enmarcar el problema\n",
    "- ¿Cuál es exactamente el objetivo del negocio?.\n",
    "- ¿Cómo espera la empresa usar y beneficiarse de este modelo?.\n",
    "\n",
    "* La salida del modelo es una predicción del precio promedio de viviendo del una distrito, sera aliementada para otro modelo de ML. Este último sisteam determinará si vale la pena invertir en una deterinamda área o no.\n",
    "\n",
    "* ¿Cómo es la solución actual? \"Si es que existe alguna.\n",
    "* ¿Es supervisado, no supervisado o aprendizaje por refuerzo?.\n",
    "* ¿Es una tarea de clasificación, regresión o algo más?.\n",
    "* ¿Deberías usartécnicas de aprendizaje por lote o de aprendizaje en línea?.\n",
    "\n",
    "claramente es una tarea típica de aprendizaje supervisado, ya que se te proporcionan ejemplos de entrenamiento etiquetados (cada instancia viene con la salida esperada, es decir, el precio medio de la vivienda del distrito). También es una tarea típica de regresión, ya que se te pide predecir un valor. Más específicamente, es un problema de regresión múltiple, ya que el sistema utilizará varias características para hacer una predicción (utilizará la población del distrito, el ingreso medio, etc.). También es un problema de regresión univariada, ya que solo intentamos predecir un valor único para cada distrito. Si estuviéramos tratando de predecir múltiples valores por distrito, sería un problema de regresión multivariada. Finalmente, no hay un flujo continuo de datos que entre al sistema, no hay necesidad particular de ajustarse rápidamente a los datos cambiantes y los datos son lo suficientemente pequeños como para caber en la memoria, por lo que el aprendizaje por lotes simple debería funcionar bien."
   ]
  },
  {
   "cell_type": "markdown",
   "id": "3eb5bd39",
   "metadata": {},
   "source": [
    "## Seleccionar una medida de rendimiento\n",
    "\n",
    "* Una medida de rendimiento típica para problemas de regresión es el Error Cuadrático Medio. Nos da una idea de cuánto error comete tipicament el sistema en sus predicciones.\n",
    "\n",
    "$$\n",
    "\\mathrm{RMSE}(\\mathbf{X}, h) = \\sqrt{ \\frac{1}{m} \\sum_{i=1}^{m} \\left( h(\\mathbf{x}^{(i)}) - y^{(i)} \\right)^2 }\n",
    "$$\n",
    "\n",
    "Donde:\n",
    "\n",
    "* $`\\mathbf{X}`$ : El conjunto de **datos de entrada**, generalmente una matriz de tamaño $m \\times n$ (m ejemplos, n características).\n",
    "* $`h`$ : El **modelo de predicción** o hipótesis, que toma una entrada $\\mathbf{x}^{(i)}$ y predice un valor $h(\\mathbf{x}^{(i)})$.\n",
    "* $`m`$ : Número total de **ejemplos de entrenamiento** (también llamados muestras o datos).\n",
    "* $`\\sum_{i=1}^{m}`$ :Suma los errores desde el primer ejemplo hasta el $m$-ésimo. \n",
    "* $`\\mathbf{x}^{(i)}`$ : El **i-ésimo vector de características** (input) del conjunto de datos.\n",
    "* $`y^{(i)}`$ : El **valor real** o etiqueta correspondiente al input $\\mathbf{x}^{(i)}$.\n",
    "* $`h(\\mathbf{x}^{(i)})`$ : El **valor predicho** por el modelo para el input $\\mathbf{x}^{(i)}$.\n",
    "* $\\left( h(\\mathbf{x}^{(i)}) - y^{(i)} \\right)^2$ : El **error cuadrático** del i-ésimo ejemplo.\n",
    "* $\\frac{1}{m} \\sum \\ldots$ : El **promedio de los errores cuadrados**.\n",
    "* $`\\sqrt{}`$ : Toma la **raíz cuadrada** del promedio, convirtiéndolo en RMSE. \n"
   ]
  },
  {
   "cell_type": "markdown",
   "id": "d6e3533a",
   "metadata": {},
   "source": [
    "$$\n",
    "\\mathbf{x}^{(1)} = \\begin{pmatrix}\n",
    "-118.29 \\\\\n",
    "33.91 \\\\\n",
    "1{,}416 \\\\\n",
    "38{,}372\n",
    "\\end{pmatrix}\n",
    "$$\n",
    "\n",
    "y\n",
    "\n",
    "$$y^{(1)} = 156.400$$"
   ]
  }
 ],
 "metadata": {
  "language_info": {
   "name": "python"
  }
 },
 "nbformat": 4,
 "nbformat_minor": 5
}
